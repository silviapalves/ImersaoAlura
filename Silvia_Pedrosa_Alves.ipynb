{
  "nbformat": 4,
  "nbformat_minor": 0,
  "metadata": {
    "colab": {
      "name": "Silvia_Pedrosa_Alves.ipynb",
      "provenance": [],
      "authorship_tag": "ABX9TyOkZ1k8Sk1QuLbG4Aq8NzOM",
      "include_colab_link": true
    },
    "kernelspec": {
      "name": "python3",
      "display_name": "Python 3"
    }
  },
  "cells": [
    {
      "cell_type": "markdown",
      "metadata": {
        "id": "view-in-github",
        "colab_type": "text"
      },
      "source": [
        "<a href=\"https://colab.research.google.com/github/silviapalves/ImersaoAlura/blob/main/Silvia_Pedrosa_Alves.ipynb\" target=\"_parent\"><img src=\"https://colab.research.google.com/assets/colab-badge.svg\" alt=\"Open In Colab\"/></a>"
      ]
    },
    {
      "cell_type": "markdown",
      "metadata": {
        "id": "RzvTGgDNoK_s"
      },
      "source": [
        "##Introdução\n",
        "####Este relatório faz duas análises relacionando os dados de escolas públicas e privadas e dois modelos de machine learning para prever a nota da competencia 3 de redação dadas as notas da competência 1, 2, 4 e 5.\n",
        "\n",
        "##Índice\n",
        "####1. Importação dos dados\n",
        ">1.1 Dados do ENEM\n",
        "\n",
        ">1.2 Dados do Censo Educação Superior\n",
        "\n",
        "####2. Análise 1\n",
        "\n",
        ">2.1 Objetivo\n",
        "\n",
        ">2.2 Premissas e conclusões\n",
        "\n",
        "####3. Análise 2\n",
        "\n",
        ">3.1 Objetivo\n",
        "\n",
        ">3.2 Premissas e conclusões\n",
        "\n",
        "\n",
        "####4. Modelos de machine learning \n",
        "\n",
        ">4.1 Objetivo\n",
        "\n",
        ">4.2 Escolas públicas\n",
        "\n",
        ">4.3 Escolas privadas\n",
        "\n",
        ">4.4 Premissas e conclusões\n",
        "\n"
      ]
    },
    {
      "cell_type": "code",
      "metadata": {
        "id": "bX5Tw9flxwn4"
      },
      "source": [
        "import pandas as pd\n",
        "import seaborn as sns\n",
        "import matplotlib.pyplot as plt\n",
        "import numpy as np\n",
        "from sklearn.model_selection import cross_validate\n",
        "from sklearn.model_selection import KFold\n",
        "from sklearn.tree import DecisionTreeRegressor\n",
        "from sklearn.model_selection import cross_val_predict"
      ],
      "execution_count": null,
      "outputs": []
    },
    {
      "cell_type": "markdown",
      "metadata": {
        "id": "8EY4_L3Kfe_N"
      },
      "source": [
        "####1. Importação dos dados"
      ]
    },
    {
      "cell_type": "code",
      "metadata": {
        "id": "fRPoQYVfdwOK"
      },
      "source": [
        "educacao_sup = \"https://github.com/silviapalves/ImersaoAlura/blob/main/data_sup1.csv?raw=true\"\n",
        "enem = \"https://github.com/alura-cursos/imersao-dados-2-2020/blob/master/MICRODADOS_ENEM_2019_SAMPLE_43278.csv?raw=true\"\n",
        "\n",
        "dados_educacao_sup = pd.read_csv(educacao_sup)\n",
        "dados_enem = pd.read_csv(enem)"
      ],
      "execution_count": null,
      "outputs": []
    },
    {
      "cell_type": "markdown",
      "metadata": {
        "id": "bGHbabwsehud"
      },
      "source": [
        ">1.1 Dados do ENEM\n"
      ]
    },
    {
      "cell_type": "code",
      "metadata": {
        "id": "Osx5N9XfdzHR"
      },
      "source": [
        "materias = [\"NU_NOTA_CN\",\"NU_NOTA_CH\",\"NU_NOTA_LC\",\"NU_NOTA_MT\",\"NU_NOTA_REDACAO\"]\n",
        "dados_enem[\"NU_NOTA_TOTAL\"] = dados_enem[materias].sum(axis=1)\n",
        "\n",
        "dados_enem_escola_publica = dados_enem.query(\"TP_ESCOLA == 2 & NU_NOTA_TOTAL != 0\")\n",
        "dados_enem_escola_privada = dados_enem.query(\"TP_ESCOLA == 3 & NU_NOTA_TOTAL != 0\")\n",
        "dados_enem_escola_NA = dados_enem.query(\"TP_ESCOLA != 3 & TP_ESCOLA != 2 & NU_NOTA_TOTAL != 0\")\n",
        "size_enem = len(dados_enem_escola_publica)+len(dados_enem_escola_privada)+len(dados_enem_escola_NA)\n",
        "size_enem_nan = len(dados_enem_escola_publica)+len(dados_enem_escola_privada)\n",
        "\n",
        "y_enem = [len(dados_enem_escola_publica)/size_enem_nan*100, len(dados_enem_escola_privada)/size_enem_nan*100]\n",
        "x_enem = [\"Publica\", \"Privada\",\"NaN\"]"
      ],
      "execution_count": null,
      "outputs": []
    },
    {
      "cell_type": "markdown",
      "metadata": {
        "id": "25Mi1Xx7evpC"
      },
      "source": [
        ">1.2 Dados do Censo Educação Superior"
      ]
    },
    {
      "cell_type": "code",
      "metadata": {
        "id": "7K6qzPEuez8T"
      },
      "source": [
        "dados_sup_escola_publica = dados_educacao_sup.query(\"TP_ESCOLA_CONCLUSAO_ENS_MEDIO == 1\")\n",
        "dados_sup_escola_privada = dados_educacao_sup.query(\"TP_ESCOLA_CONCLUSAO_ENS_MEDIO == 2\")\n",
        "dados_sup_escola_NA = dados_educacao_sup.query(\"TP_ESCOLA_CONCLUSAO_ENS_MEDIO == 9\")\n",
        "size_sup = len(dados_sup_escola_publica)+len(dados_sup_escola_privada)+len(dados_sup_escola_NA)\n",
        "dados_educacao_sup[\"TP_ESCOLA_CONCLUSAO_ENS_MEDIO\"].value_counts()\n",
        "size_sup_nan = len(dados_sup_escola_publica)+len(dados_sup_escola_privada)\n",
        "\n",
        "y_sup = [len(dados_sup_escola_publica)/size_sup_nan*100, len(dados_sup_escola_privada)/size_sup_nan*100]\n",
        "x_sup = [\"Publica\", \"Privada\"]"
      ],
      "execution_count": null,
      "outputs": []
    },
    {
      "cell_type": "markdown",
      "metadata": {
        "id": "lndd8DdD6Gos"
      },
      "source": [
        "####2. Análise 1\n",
        "\n",
        ">2.1 Objetivo\n",
        "\n",
        "Visualizar a diferença entre inscritos provinientes de escolas públicas e privadas no ENEM e cursando o ensino superior."
      ]
    },
    {
      "cell_type": "code",
      "metadata": {
        "id": "eAsgHTwE0wsJ",
        "colab": {
          "base_uri": "https://localhost:8080/",
          "height": 398
        },
        "outputId": "19f84aba-fd8c-44bb-e6fd-2ad6d7ba1bdb"
      },
      "source": [
        "y = np.array([y_enem,y_sup]).T\n",
        "labels = [\"Dados Enem\",\"Censo ensino superior\"]\n",
        "plt.bar(labels,y[0])\n",
        "plt.bar(labels,y[1],bottom=y[0])\n",
        "plt.legend(x_sup)\n",
        "plt.ylabel (\"Porcentagem\")\n",
        "plt.title (\"Comparativo de escolas publicas e privadas no enem e no ensino superior\")\n",
        "plt.show()\n",
        "\n",
        "porcentagem_nan_enem = len(dados_enem_escola_NA)/size_enem*100\n",
        "porcentagem_nan_censo = len(dados_sup_escola_NA)/size_sup*100\n",
        "\n",
        "dif_pub = y_enem[0]-y_sup[0]\n",
        "dif_pri = y_enem[1]-y_sup[1]\n",
        "\n",
        "print(f\"\\nPorcentagem de dados sem informação:\\nENEM: {round(porcentagem_nan_enem,2)} % \\nCenso Educação Superior: {round(porcentagem_nan_censo,2)} %\")\n",
        "\n",
        "print(f\"\\n% Escola pública ENEM - % Escola pública Censo: {round(dif_pub,2)} % \\n% Escola privada ENEM - % Escola privada Censo: {round(dif_pri,2)} % \")"
      ],
      "execution_count": null,
      "outputs": [
        {
          "output_type": "display_data",
          "data": {
            "image/png": "[encoded data removed]",
            "text/plain": [
              "<Figure size 432x288 with 1 Axes>"
            ]
          },
          "metadata": {
            "tags": [],
            "needs_background": "light"
          }
        },
        {
          "output_type": "stream",
          "text": [
            "\n",
            "Porcentagem de dados sem informação:\n",
            "ENEM: 67.53 % \n",
            "Censo Educação Superior: 0.31 %\n",
            "\n",
            "% Escola pública ENEM - % Escola pública Censo: 23.6 % \n",
            "% Escola privada ENEM - % Escola privada Censo: -23.6 % \n"
          ],
          "name": "stdout"
        }
      ]
    },
    {
      "cell_type": "markdown",
      "metadata": {
        "id": "2enm39uN6LI_"
      },
      "source": [
        ">2.2 Premissas e discussões\n",
        "\n",
        "Premissas:\n",
        "\n",
        "*   A porcentagem foi obtida considerando a soma entre escolas públicas e privadas e não leva em consideração a quantidade de dados sem informação;\n",
        "*   Visto a elevada porcentagem de dados sem informação para o ENEM, a conclusão para a análise direta do grafico apresentado pode ser incompleta;\n",
        "*   Apenas o ano de 2019 foi analisado;\n",
        "*   O filtro utilizado para os dados do censo da educação superior foi a seleção das 100000 primeiras linhas, o que pode também comprometer a análise direta do gráfico.\n",
        "\n",
        "\n",
        "Conclusões:\n",
        "\n",
        "*   Existe um decréscimo de 23.6% no número de pessoas provinientes de escola pública inscritas no ENEM e cursando o ensino superior. O que pode levar a conclusão que menos pessoas de escola pública ingressam na faculdade.\n",
        "*   A conclusão acima pode ser impactada pelas premissas descritas e também por outros pontos não levantados.\n",
        "\n",
        "\n",
        "\n"
      ]
    },
    {
      "cell_type": "markdown",
      "metadata": {
        "id": "__OzgL9MIAO4"
      },
      "source": [
        "####3. Análise 2\n",
        "\n",
        ">3.1 Objetivo\n",
        "\n",
        "Visualizar se existe alguma nota que dependa menos do tipo de escola."
      ]
    },
    {
      "cell_type": "code",
      "metadata": {
        "id": "v_1FZxgDKSgw"
      },
      "source": [
        "media_pub = []\n",
        "media_priv = []\n",
        "\n",
        "for i in materias:\n",
        "  MT_mean = dados_enem_escola_publica[i].mean()\n",
        "  media_pub.append(MT_mean)\n",
        "\n",
        "for i in materias:\n",
        "  MT_mean = dados_enem_escola_privada[i].mean()\n",
        "  media_priv.append(MT_mean)\n",
        "\n",
        "diferenca = (np.array(media_priv)-np.array(media_pub))/np.array(media_priv)*100\n",
        "\n",
        "n_min = np.min(diferenca)\n",
        "n_max = np.max(diferenca)\n",
        "diferenca = diferenca.tolist()\n",
        "index_min = diferenca.index(n_min)\n",
        "index_max = diferenca.index(n_max)\n",
        "Menor_dif = materias[index_min]\n",
        "Maior_dif = materias[index_max]"
      ],
      "execution_count": null,
      "outputs": []
    },
    {
      "cell_type": "code",
      "metadata": {
        "id": "ign04PMNKl0l"
      },
      "source": [
        "notas_completas = []\n",
        "materia = []\n",
        "tipo = []\n",
        "\n",
        "for i in materias:\n",
        "  notas = dados_enem_escola_publica[i]\n",
        "  notas_completas.append(notas)\n",
        "  for j in range(len(dados_enem_escola_publica[i])):\n",
        "    materia.append(i)\n",
        "    tipo.append(\"Publica\")\n",
        "\n",
        "for i in materias:\n",
        "  notas = dados_enem_escola_privada[i]\n",
        "  notas_completas.append(notas)\n",
        "  for j in range(len(dados_enem_escola_privada[i])):\n",
        "    materia.append(i)\n",
        "    tipo.append(\"Privada\")\n",
        "\n",
        "notas_completas = np.hstack(notas_completas).tolist()\n",
        "\n",
        "obj = {'Notas': notas_completas, 'Materias': materia, 'Tipo':tipo}\n",
        "complete_df_analise_2 = pd.DataFrame(data=obj)"
      ],
      "execution_count": null,
      "outputs": []
    },
    {
      "cell_type": "code",
      "metadata": {
        "id": "TsQnUVZcNMZr",
        "colab": {
          "base_uri": "https://localhost:8080/",
          "height": 482
        },
        "outputId": "456549ee-8944-48f9-ab66-e7e82d259a9c"
      },
      "source": [
        "sns.boxplot(x=\"Materias\", y = \"Notas\", data = complete_df_analise_2,hue=\"Tipo\")\n",
        "plt.title(\"Boxplot de todas as notas pelo tipo de escola\")\n",
        "plt.xticks(rotation=45)\n",
        "plt.show()\n",
        "\n",
        "print(f\"\\nMenor variação entre a média das notas provinientes de escola pública e privada : {round(n_min,2)} % \\nDisciplina com a menor variação: {Menor_dif}\")\n",
        "print(f\"\\n\\nMaior variação entre a média das notas provinientes de escola pública e privada : {round(n_max,2)} % \\nDisciplina com a menor variação: {Maior_dif}\")"
      ],
      "execution_count": null,
      "outputs": [
        {
          "output_type": "display_data",
          "data": {
            "image/png": "[encoded data removed]",
            "text/plain": [
              "<Figure size 432x288 with 1 Axes>"
            ]
          },
          "metadata": {
            "tags": [],
            "needs_background": "light"
          }
        },
        {
          "output_type": "stream",
          "text": [
            "\n",
            "Menor variação entre a média das notas provinientes de escola pública e privada : 10.28 % \n",
            "Disciplina com a menor variação: NU_NOTA_LC\n",
            "\n",
            "\n",
            "Maior variação entre a média das notas provinientes de escola pública e privada : 23.84 % \n",
            "Disciplina com a menor variação: NU_NOTA_REDACAO\n"
          ],
          "name": "stdout"
        }
      ]
    },
    {
      "cell_type": "markdown",
      "metadata": {
        "id": "iGLGYdkLz0i7"
      },
      "source": [
        ">3.2 Premissas e conclusões\n",
        "\n",
        "Premissas:\n",
        "\n",
        "As mesmas premissas da seção 2.2.\n",
        "\n",
        "Conclusões:\n",
        "\n",
        "*   A disciplica com menor variação na média das notas é linguagens e códigos com 10,28%;\n",
        "*   Essa menor variação pode ser devido ao fato de que o range da maior concentração de notas para essa disciplina também é menor do que para as outras disciplinas como pode ser visto no gráfico.\n",
        "*   A disciplica com maior variação na média das notas é redação com 23.84%;\n",
        "*   Essa maior variação pode ser devido ao fato de que o range da maior concentração de notas para essa disciplina também é maior do que para as outras disciplinas como pode ser visto no gráfico. Além disso a avaliação da redação é composta por 5 competências, o que pode contribuir para a maior variação da nota. Essa subdivisão em competências será avaliada no seção de machine learning.\n",
        "\n"
      ]
    },
    {
      "cell_type": "markdown",
      "metadata": {
        "id": "2cizFWQfXBLn"
      },
      "source": [
        "####4. Modelos de machine learning \n",
        "\n",
        ">4.1 Objetivo\n",
        "\n",
        "Avaliar qual modelo responde melhor entre escolas públicas e privadas para prever a nota da competência 3 de redação dadas as notas das competências 1, 2, 4 e 5.\n",
        "\n",
        ">4.2 Escolas públicas"
      ]
    },
    {
      "cell_type": "code",
      "metadata": {
        "id": "2OkqA1DWW_zT"
      },
      "source": [
        "todas_competencias = [\"NU_NOTA_COMP1\",\"NU_NOTA_COMP2\",\"NU_NOTA_COMP4\",\"NU_NOTA_COMP5\",\"NU_NOTA_COMP3\"]\n",
        "competencias_entrada = [\"NU_NOTA_COMP1\",\"NU_NOTA_COMP2\",\"NU_NOTA_COMP4\",\"NU_NOTA_COMP5\"]\n",
        "competencias_saida = [\"NU_NOTA_COMP3\"]\n",
        "dados_enem_escola_publica = dados_enem_escola_publica[todas_competencias].dropna()\n",
        "x_publica = dados_enem_escola_publica[competencias_entrada]\n",
        "y_publica = dados_enem_escola_publica[competencias_saida] \n",
        "\n",
        "def regressor_arvore_pub(nivel, splits):\n",
        "  SEED= 2310\n",
        "  np.random.seed(SEED)\n",
        "  partes = KFold(n_splits = splits, shuffle=True)\n",
        "  modelo_arvore = DecisionTreeRegressor(max_depth=nivel)\n",
        "  resultados = cross_validate(modelo_arvore, x_publica, y_publica, cv= partes, scoring=\"neg_mean_absolute_error\", return_train_score=True)\n",
        "  y_pred = cross_val_predict(modelo_arvore, x_publica, y_publica, cv=splits)\n",
        "  treino = (resultados['train_score']*-1).mean()\n",
        "  teste = (resultados['test_score']*-1).mean()\n",
        "\n",
        "  y_original = y_publica.values.T.squeeze()\n",
        "  y_matem = y_pred\n",
        "\n",
        "  erro = y_matem - y_original\n",
        "  media_erro = erro.mean()\n",
        "  erro_sup = erro.mean()+2*erro.std()\n",
        "  erro_inf = erro.mean()-2*erro.std()\n",
        "\n",
        "  sns.histplot(erro, stat=\"probability\")\n",
        "\n",
        "  print(f\"Camada: {nivel} | Divisão: {splits} | Desvio padrão: {round(erro.std(),2)} | Treino = {round((resultados['train_score']*-1).mean(),2)} | Teste = {round((resultados['test_score']*-1).mean(),2)} | Intervalo de confiança {round(erro_sup,2)} a {round(erro_inf,2)}\")\n"
      ],
      "execution_count": null,
      "outputs": []
    },
    {
      "cell_type": "code",
      "metadata": {
        "id": "cWMiSnHEb1ix",
        "colab": {
          "base_uri": "https://localhost:8080/",
          "height": 618
        },
        "outputId": "7f97a9a8-a190-4d08-806c-6f955efca379"
      },
      "source": [
        "for i in range(3,10):\n",
        "\n",
        "  for j in range(5,8):\n",
        "    regressor_arvore_pub(i,j)"
      ],
      "execution_count": null,
      "outputs": [
        {
          "output_type": "stream",
          "text": [
            "Camada: 3, Divisão: 5, Desvio padrão: 17.26, Treino = 11.44|Teste = 11.45 \n",
            "Camada: 3, Divisão: 6, Desvio padrão: 17.26, Treino = 11.44|Teste = 11.45 \n",
            "Camada: 3, Divisão: 7, Desvio padrão: 17.26, Treino = 11.44|Teste = 11.45 \n",
            "Camada: 4, Divisão: 5, Desvio padrão: 15.73, Treino = 11.74|Teste = 11.77 \n",
            "Camada: 4, Divisão: 6, Desvio padrão: 15.73, Treino = 11.75|Teste = 11.77 \n",
            "Camada: 4, Divisão: 7, Desvio padrão: 15.72, Treino = 11.74|Teste = 11.77 \n",
            "Camada: 5, Divisão: 5, Desvio padrão: 15.09, Treino = 11.14|Teste = 11.18 \n",
            "Camada: 5, Divisão: 6, Desvio padrão: 15.1, Treino = 11.05|Teste = 11.09 \n",
            "Camada: 5, Divisão: 7, Desvio padrão: 15.09, Treino = 11.01|Teste = 11.06 \n",
            "Camada: 6, Divisão: 5, Desvio padrão: 14.72, Treino = 10.69|Teste = 10.77 \n",
            "Camada: 6, Divisão: 6, Desvio padrão: 14.72, Treino = 10.69|Teste = 10.79 \n",
            "Camada: 6, Divisão: 7, Desvio padrão: 14.73, Treino = 10.67|Teste = 10.77 \n",
            "Camada: 7, Divisão: 5, Desvio padrão: 14.57, Treino = 10.43|Teste = 10.59 \n",
            "Camada: 7, Divisão: 6, Desvio padrão: 14.51, Treino = 10.4|Teste = 10.58 \n",
            "Camada: 7, Divisão: 7, Desvio padrão: 14.54, Treino = 10.39|Teste = 10.58 \n",
            "Camada: 8, Divisão: 5, Desvio padrão: 14.42, Treino = 10.26|Teste = 10.55 \n",
            "Camada: 8, Divisão: 6, Desvio padrão: 14.39, Treino = 10.26|Teste = 10.56 \n",
            "Camada: 8, Divisão: 7, Desvio padrão: 14.41, Treino = 10.26|Teste = 10.53 \n",
            "Camada: 9, Divisão: 5, Desvio padrão: 14.46, Treino = 10.08|Teste = 10.53 \n",
            "Camada: 9, Divisão: 6, Desvio padrão: 14.41, Treino = 10.09|Teste = 10.52 \n",
            "Camada: 9, Divisão: 7, Desvio padrão: 14.4, Treino = 10.1|Teste = 10.51 \n"
          ],
          "name": "stdout"
        },
        {
          "output_type": "display_data",
          "data": {
            "image/png": "[encoded data removed]",
            "text/plain": [
              "<Figure size 432x288 with 1 Axes>"
            ]
          },
          "metadata": {
            "tags": [],
            "needs_background": "light"
          }
        }
      ]
    },
    {
      "cell_type": "code",
      "metadata": {
        "id": "RDH0fUcnkkLI",
        "colab": {
          "base_uri": "https://localhost:8080/",
          "height": 282
        },
        "outputId": "1fba1bec-5799-4b83-aa0f-a671b65c1b24"
      },
      "source": [
        "regressor_arvore_pub(6, 5)"
      ],
      "execution_count": null,
      "outputs": [
        {
          "output_type": "stream",
          "text": [
            "Camada: 6 | Divisão: 5 | Desvio padrão: 14.72 | Treino = 10.69 | Teste = 10.77 | Intervalo de confiança 29.43 a -29.46\n"
          ],
          "name": "stdout"
        },
        {
          "output_type": "display_data",
          "data": {
            "image/png": "[encoded data removed]",
            "text/plain": [
              "<Figure size 432x288 with 1 Axes>"
            ]
          },
          "metadata": {
            "tags": [],
            "needs_background": "light"
          }
        }
      ]
    },
    {
      "cell_type": "markdown",
      "metadata": {
        "id": "kPsRR-yzfoFC"
      },
      "source": [
        ">4.3 Escolas privadas"
      ]
    },
    {
      "cell_type": "code",
      "metadata": {
        "id": "N6tjOwJzc_-C"
      },
      "source": [
        "todas_competencias = [\"NU_NOTA_COMP1\",\"NU_NOTA_COMP2\",\"NU_NOTA_COMP4\",\"NU_NOTA_COMP5\",\"NU_NOTA_COMP3\"]\n",
        "competencias_entrada = [\"NU_NOTA_COMP1\",\"NU_NOTA_COMP2\",\"NU_NOTA_COMP4\",\"NU_NOTA_COMP5\"]\n",
        "competencias_saida = [\"NU_NOTA_COMP3\"]\n",
        "dados_enem_escola_privada = dados_enem_escola_privada[todas_competencias].dropna()\n",
        "x_privada = dados_enem_escola_privada[competencias_entrada]\n",
        "y_privada = dados_enem_escola_privada[competencias_saida] \n",
        "\n",
        "def regressor_arvore_pri(nivel, splits):\n",
        "  SEED= 2310\n",
        "  np.random.seed(SEED)\n",
        "  partes = KFold(n_splits = splits, shuffle=True)\n",
        "  modelo_arvore = DecisionTreeRegressor(max_depth=nivel)\n",
        "  resultados = cross_validate(modelo_arvore, x_privada, y_privada, cv= partes, scoring=\"neg_mean_absolute_error\", return_train_score=True)\n",
        "  y_pred = cross_val_predict(modelo_arvore, x_privada, y_privada, cv=splits)\n",
        "  treino = (resultados['train_score']*-1).mean()\n",
        "  teste = (resultados['test_score']*-1).mean()\n",
        "\n",
        "  y_original = y_privada.values.T.squeeze()\n",
        "  y_matem = y_pred\n",
        "\n",
        "  erro = y_matem - y_original\n",
        "  media_erro = erro.mean()\n",
        "  erro_sup = erro.mean()+2*erro.std()\n",
        "  erro_inf = erro.mean()-2*erro.std()\n",
        "\n",
        "  sns.histplot(erro, stat=\"probability\")\n",
        "\n",
        "  print(f\"Camada: {nivel} | Divisão: {splits} | Desvio padrão: {round(erro.std(),2)} | Treino = {round((resultados['train_score']*-1).mean(),2)} | Teste = {round((resultados['test_score']*-1).mean(),2)} | Intervalo de confiança {round(erro_sup,2)} a {round(erro_inf,2)}\")"
      ],
      "execution_count": null,
      "outputs": []
    },
    {
      "cell_type": "code",
      "metadata": {
        "id": "LiWlMXDTdrbF",
        "colab": {
          "base_uri": "https://localhost:8080/",
          "height": 618
        },
        "outputId": "b11dff0e-d031-485a-9372-e52a5ec2957b"
      },
      "source": [
        "for i in range(3,10):\n",
        "\n",
        "  for j in range(5,8):\n",
        "    regressor_arvore_pri(i,j)"
      ],
      "execution_count": null,
      "outputs": [
        {
          "output_type": "stream",
          "text": [
            "Camada: 3 | Divisão: 5 | Desvio padrão: 17.99 | Treino = 13.27 | Teste = 13.3 | Intervalo de confiança 35.97 a -35.97\n",
            "Camada: 3 | Divisão: 6 | Desvio padrão: 18.0 | Treino = 13.28 | Teste = 13.3 | Intervalo de confiança 35.93 a -36.06\n",
            "Camada: 3 | Divisão: 7 | Desvio padrão: 18.0 | Treino = 13.28 | Teste = 13.3 | Intervalo de confiança 35.98 a -36.0\n",
            "Camada: 4 | Divisão: 5 | Desvio padrão: 16.89 | Treino = 12.79 | Teste = 12.89 | Intervalo de confiança 33.76 a -33.8\n",
            "Camada: 4 | Divisão: 6 | Desvio padrão: 16.91 | Treino = 12.79 | Teste = 12.95 | Intervalo de confiança 33.81 a -33.83\n",
            "Camada: 4 | Divisão: 7 | Desvio padrão: 16.87 | Treino = 12.8 | Teste = 12.9 | Intervalo de confiança 33.71 a -33.77\n",
            "Camada: 5 | Divisão: 5 | Desvio padrão: 16.49 | Treino = 12.16 | Teste = 12.51 | Intervalo de confiança 32.98 a -32.99\n",
            "Camada: 5 | Divisão: 6 | Desvio padrão: 16.54 | Treino = 12.23 | Teste = 12.61 | Intervalo de confiança 33.07 a -33.08\n",
            "Camada: 5 | Divisão: 7 | Desvio padrão: 16.46 | Treino = 12.22 | Teste = 12.57 | Intervalo de confiança 32.92 a -32.93\n",
            "Camada: 6 | Divisão: 5 | Desvio padrão: 16.38 | Treino = 11.89 | Teste = 12.43 | Intervalo de confiança 32.84 a -32.69\n",
            "Camada: 6 | Divisão: 6 | Desvio padrão: 16.33 | Treino = 11.92 | Teste = 12.53 | Intervalo de confiança 32.64 a -32.67\n",
            "Camada: 6 | Divisão: 7 | Desvio padrão: 16.33 | Treino = 11.88 | Teste = 12.43 | Intervalo de confiança 32.66 a -32.65\n",
            "Camada: 7 | Divisão: 5 | Desvio padrão: 16.2 | Treino = 11.64 | Teste = 12.42 | Intervalo de confiança 32.45 a -32.34\n",
            "Camada: 7 | Divisão: 6 | Desvio padrão: 16.24 | Treino = 11.66 | Teste = 12.44 | Intervalo de confiança 32.47 a -32.5\n",
            "Camada: 7 | Divisão: 7 | Desvio padrão: 16.26 | Treino = 11.64 | Teste = 12.41 | Intervalo de confiança 32.5 a -32.52\n",
            "Camada: 8 | Divisão: 5 | Desvio padrão: 16.3 | Treino = 11.31 | Teste = 12.51 | Intervalo de confiança 32.68 a -32.53\n",
            "Camada: 8 | Divisão: 6 | Desvio padrão: 16.4 | Treino = 11.33 | Teste = 12.49 | Intervalo de confiança 32.84 a -32.76\n",
            "Camada: 8 | Divisão: 7 | Desvio padrão: 16.31 | Treino = 11.36 | Teste = 12.45 | Intervalo de confiança 32.64 a -32.59\n",
            "Camada: 9 | Divisão: 5 | Desvio padrão: 16.61 | Treino = 10.98 | Teste = 12.58 | Intervalo de confiança 33.34 a -33.09\n",
            "Camada: 9 | Divisão: 6 | Desvio padrão: 16.64 | Treino = 11.01 | Teste = 12.56 | Intervalo de confiança 33.3 a -33.24\n",
            "Camada: 9 | Divisão: 7 | Desvio padrão: 16.49 | Treino = 11.03 | Teste = 12.51 | Intervalo de confiança 33.01 a -32.96\n"
          ],
          "name": "stdout"
        },
        {
          "output_type": "display_data",
          "data": {
            "image/png": "[encoded data removed]",
            "text/plain": [
              "<Figure size 432x288 with 1 Axes>"
            ]
          },
          "metadata": {
            "tags": [],
            "needs_background": "light"
          }
        }
      ]
    },
    {
      "cell_type": "code",
      "metadata": {
        "id": "QpAmG4dOeoWy",
        "colab": {
          "base_uri": "https://localhost:8080/",
          "height": 282
        },
        "outputId": "35a39df8-bf20-41de-d79e-4c9f4a3db4e6"
      },
      "source": [
        "regressor_arvore_pri(6, 5)"
      ],
      "execution_count": null,
      "outputs": [
        {
          "output_type": "stream",
          "text": [
            "Camada: 6 | Divisão: 5 | Desvio padrão: 16.38 | Treino = 11.89 | Teste = 12.43 | Intervalo de confiança 32.84 a -32.69\n"
          ],
          "name": "stdout"
        },
        {
          "output_type": "display_data",
          "data": {
            "image/png": "[encoded data removed]",
            "text/plain": [
              "<Figure size 432x288 with 1 Axes>"
            ]
          },
          "metadata": {
            "tags": [],
            "needs_background": "light"
          }
        }
      ]
    },
    {
      "cell_type": "markdown",
      "metadata": {
        "id": "KSaP_fPMfwTv"
      },
      "source": [
        ">4.4 Premissas e conclusões\n",
        "\n",
        "Premissas:\n",
        "\n",
        "As mesmas premissas da seção 2.2.\n",
        "\n",
        "Conclusões:\n",
        "\n",
        "*   O desvio padrão do modelo para escolas públicas é menor do que o desvio padrão do modelo para escolas privadas, o que significa que o primeiro modelo está prevendo melhor a nota da competência 3 da redação;\n",
        "*   Isso pode ser devido ao fato que as notas de redação das escolas privadas está mais distribuído do que as notas das escola públicas, como pode ser visto do boxplot da seção 3.1."
      ]
    }
  ]
}